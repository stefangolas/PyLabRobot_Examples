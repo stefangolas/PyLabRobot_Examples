{
 "cells": [
  {
   "cell_type": "code",
   "execution_count": null,
   "id": "709249a5",
   "metadata": {},
   "outputs": [],
   "source": [
    "from pylabrobot.liquid_handling import LiquidHandler\n",
    "from pylabrobot.liquid_handling.backends.simulation.simulator_backend import SimulatorBackend\n",
    "from pylabrobot.liquid_handling.backends import ChatterBoxBackend\n",
    "from pylabrobot.resources.hamilton import STARLetDeck\n",
    "from pylabrobot.resources.opentrons import OTDeck\n",
    "\n",
    "from pylabrobot.resources import (\n",
    "    TIP_CAR_480_A00,\n",
    "    PLT_CAR_L5AC_A00,\n",
    "    Cos_96_DW_1mL,\n",
    "    STF_L\n",
    ")\n",
    "\n",
    "sb = SimulatorBackend(open_browser=False)\n",
    "lh = LiquidHandler(backend=sb, deck=STARLetDeck())\n",
    "lh.deck = lh.deck.load_from_json_file('saving_deck/save_deck.json')\n"
   ]
  },
  {
   "cell_type": "code",
   "execution_count": null,
   "id": "931853ee",
   "metadata": {},
   "outputs": [],
   "source": [
    "await lh.setup()\n"
   ]
  },
  {
   "cell_type": "code",
   "execution_count": null,
   "id": "608f39ea",
   "metadata": {},
   "outputs": [],
   "source": [
    "sb.wait_for_connection()\n",
    "tips = lh.get_resource(\"tips_01\")\n",
    "await sb.fill_tip_rack(tips)\n"
   ]
  },
  {
   "cell_type": "markdown",
   "id": "2e6f6b69",
   "metadata": {},
   "source": [
    "### Integer indices"
   ]
  },
  {
   "cell_type": "code",
   "execution_count": null,
   "id": "630e6306",
   "metadata": {},
   "outputs": [],
   "source": [
    "#Pick up and drop tips from the first eight positions of `tips`\n",
    "\n",
    "await lh.pick_up_tips(tips[range(8)])\n",
    "await lh.drop_tips(tips[range(8)])\n"
   ]
  },
  {
   "cell_type": "markdown",
   "id": "5a779e0f",
   "metadata": {},
   "source": [
    "### Alphanumeric indices\n"
   ]
  },
  {
   "cell_type": "code",
   "execution_count": null,
   "id": "21430ab0",
   "metadata": {},
   "outputs": [],
   "source": [
    "#Pick up and drop tips from the first four positions of `tips` with alphanumeric indices\n",
    "\n",
    "await lh.pick_up_tips(tips[\"A1\", \"B2\", \"C3\", \"D4\"])\n",
    "await lh.drop_tips(tips[\"A1\", \"B2\", \"C3\", \"D4\"])\n"
   ]
  },
  {
   "cell_type": "markdown",
   "id": "22927a5e",
   "metadata": {},
   "source": [
    "### Excel-like indices\n"
   ]
  },
  {
   "cell_type": "code",
   "execution_count": null,
   "id": "06771111",
   "metadata": {},
   "outputs": [],
   "source": [
    "#Pick up and drop tips from the first four positions of `tips` with excel-like indices\n",
    "\n",
    "await lh.pick_up_tips(tips[\"A1:D1\"])\n",
    "await lh.drop_tips(tips[\"A1:D1\"])\n"
   ]
  }
 ],
 "metadata": {
  "kernelspec": {
   "display_name": "Python 3 (ipykernel)",
   "language": "python",
   "name": "python3"
  },
  "language_info": {
   "codemirror_mode": {
    "name": "ipython",
    "version": 3
   },
   "file_extension": ".py",
   "mimetype": "text/x-python",
   "name": "python",
   "nbconvert_exporter": "python",
   "pygments_lexer": "ipython3",
   "version": "3.9.12"
  }
 },
 "nbformat": 4,
 "nbformat_minor": 5
}
