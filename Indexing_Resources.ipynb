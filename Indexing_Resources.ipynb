{
 "cells": [
  {
   "cell_type": "code",
   "execution_count": 2,
   "id": "709249a5",
   "metadata": {},
   "outputs": [
    {
     "ename": "FileNotFoundError",
     "evalue": "[Errno 2] No such file or directory: 'saving_deck/save_deck.json'",
     "output_type": "error",
     "traceback": [
      "\u001b[1;31m---------------------------------------------------------------------------\u001b[0m",
      "\u001b[1;31mFileNotFoundError\u001b[0m                         Traceback (most recent call last)",
      "Input \u001b[1;32mIn [2]\u001b[0m, in \u001b[0;36m<cell line: 15>\u001b[1;34m()\u001b[0m\n\u001b[0;32m     13\u001b[0m sb \u001b[38;5;241m=\u001b[39m SimulatorBackend(open_browser\u001b[38;5;241m=\u001b[39m\u001b[38;5;28;01mFalse\u001b[39;00m)\n\u001b[0;32m     14\u001b[0m lh \u001b[38;5;241m=\u001b[39m LiquidHandler(backend\u001b[38;5;241m=\u001b[39msb, deck\u001b[38;5;241m=\u001b[39mSTARLetDeck())\n\u001b[1;32m---> 15\u001b[0m lh\u001b[38;5;241m.\u001b[39mdeck \u001b[38;5;241m=\u001b[39m \u001b[43mlh\u001b[49m\u001b[38;5;241;43m.\u001b[39;49m\u001b[43mdeck\u001b[49m\u001b[38;5;241;43m.\u001b[39;49m\u001b[43mload_from_json_file\u001b[49m\u001b[43m(\u001b[49m\u001b[38;5;124;43m'\u001b[39;49m\u001b[38;5;124;43msaving_deck/save_deck.json\u001b[39;49m\u001b[38;5;124;43m'\u001b[39;49m\u001b[43m)\u001b[49m\n",
      "File \u001b[1;32mc:\\users\\stefa\\pylabrobot\\pylabrobot\\resources\\resource.py:411\u001b[0m, in \u001b[0;36mResource.load_from_json_file\u001b[1;34m(cls, json_file)\u001b[0m\n\u001b[0;32m    397\u001b[0m \u001b[38;5;129m@classmethod\u001b[39m\n\u001b[0;32m    398\u001b[0m \u001b[38;5;28;01mdef\u001b[39;00m \u001b[38;5;21mload_from_json_file\u001b[39m(\u001b[38;5;28mcls\u001b[39m, json_file: \u001b[38;5;28mstr\u001b[39m) \u001b[38;5;241m-\u001b[39m\u001b[38;5;241m>\u001b[39m Self: \u001b[38;5;66;03m# type: ignore\u001b[39;00m\n\u001b[0;32m    399\u001b[0m \u001b[38;5;250m  \u001b[39m\u001b[38;5;124;03m\"\"\" Loads resources from a JSON file.\u001b[39;00m\n\u001b[0;32m    400\u001b[0m \n\u001b[0;32m    401\u001b[0m \u001b[38;5;124;03m  Args:\u001b[39;00m\n\u001b[1;32m   (...)\u001b[0m\n\u001b[0;32m    408\u001b[0m \u001b[38;5;124;03m    >>> resource = Resource.deserialize(\"my_resource.json\")\u001b[39;00m\n\u001b[0;32m    409\u001b[0m \u001b[38;5;124;03m  \"\"\"\u001b[39;00m\n\u001b[1;32m--> 411\u001b[0m   \u001b[38;5;28;01mwith\u001b[39;00m \u001b[38;5;28;43mopen\u001b[39;49m\u001b[43m(\u001b[49m\u001b[43mjson_file\u001b[49m\u001b[43m,\u001b[49m\u001b[43m \u001b[49m\u001b[38;5;124;43m\"\u001b[39;49m\u001b[38;5;124;43mr\u001b[39;49m\u001b[38;5;124;43m\"\u001b[39;49m\u001b[43m,\u001b[49m\u001b[43m \u001b[49m\u001b[43mencoding\u001b[49m\u001b[38;5;241;43m=\u001b[39;49m\u001b[38;5;124;43m\"\u001b[39;49m\u001b[38;5;124;43mutf-8\u001b[39;49m\u001b[38;5;124;43m\"\u001b[39;49m\u001b[43m)\u001b[49m \u001b[38;5;28;01mas\u001b[39;00m f:\n\u001b[0;32m    412\u001b[0m     content \u001b[38;5;241m=\u001b[39m json\u001b[38;5;241m.\u001b[39mload(f)\n\u001b[0;32m    414\u001b[0m   \u001b[38;5;28;01mreturn\u001b[39;00m \u001b[38;5;28mcls\u001b[39m\u001b[38;5;241m.\u001b[39mdeserialize(content)\n",
      "\u001b[1;31mFileNotFoundError\u001b[0m: [Errno 2] No such file or directory: 'saving_deck/save_deck.json'"
     ]
    }
   ],
   "source": [
    "from pylabrobot.liquid_handling import LiquidHandler\n",
    "from pylabrobot.liquid_handling.backends.simulation.simulator_backend import SimulatorBackend\n",
    "from pylabrobot.resources.hamilton import STARLetDeck\n",
    "from pylabrobot.resources.opentrons import OTDeck\n",
    "\n",
    "from pylabrobot.resources import (\n",
    "    TIP_CAR_480_A00,\n",
    "    PLT_CAR_L5AC_A00,\n",
    "    Cos_96_DW_1mL,\n",
    "    STF_L\n",
    ")\n",
    "\n",
    "sb = SimulatorBackend(open_browser=False)\n",
    "lh = LiquidHandler(backend=sb, deck=STARLetDeck())\n",
    "lh.deck = lh.deck.load_from_json_file('saving_deck/save_deck.json')\n"
   ]
  },
  {
   "cell_type": "code",
   "execution_count": null,
   "id": "931853ee",
   "metadata": {},
   "outputs": [],
   "source": [
    "await lh.setup()\n"
   ]
  },
  {
   "cell_type": "code",
   "execution_count": null,
   "id": "608f39ea",
   "metadata": {},
   "outputs": [],
   "source": [
    "sb.wait_for_connection()\n",
    "tips = lh.get_resource(\"tips_01\")\n",
    "await sb.fill_tip_rack(tips)\n"
   ]
  },
  {
   "cell_type": "markdown",
   "id": "2e6f6b69",
   "metadata": {},
   "source": [
    "### Integer indices"
   ]
  },
  {
   "cell_type": "code",
   "execution_count": null,
   "id": "630e6306",
   "metadata": {},
   "outputs": [],
   "source": [
    "#Pick up and drop tips from the first eight positions of `tips`\n",
    "\n",
    "await lh.pick_up_tips(tips[range(8)])\n",
    "await lh.drop_tips(tips[range(8)])\n"
   ]
  },
  {
   "cell_type": "markdown",
   "id": "5a779e0f",
   "metadata": {},
   "source": [
    "### Alphanumeric indices\n"
   ]
  },
  {
   "cell_type": "code",
   "execution_count": null,
   "id": "21430ab0",
   "metadata": {},
   "outputs": [],
   "source": [
    "#Pick up and drop tips from the first four positions of `tips` with alphanumeric indices\n",
    "\n",
    "await lh.pick_up_tips(tips[\"A1\", \"B2\", \"C3\", \"D4\"])\n",
    "await lh.drop_tips(tips[\"A1\", \"B2\", \"C3\", \"D4\"])\n"
   ]
  },
  {
   "cell_type": "markdown",
   "id": "22927a5e",
   "metadata": {},
   "source": [
    "### Excel-like indices\n"
   ]
  },
  {
   "cell_type": "code",
   "execution_count": null,
   "id": "06771111",
   "metadata": {},
   "outputs": [],
   "source": [
    "#Pick up and drop tips from the first four positions of `tips` with excel-like indices\n",
    "\n",
    "await lh.pick_up_tips(tips[\"A1:D1\"])\n",
    "await lh.drop_tips(tips[\"A1:D1\"])\n"
   ]
  }
 ],
 "metadata": {
  "kernelspec": {
   "display_name": "Python 3 (ipykernel)",
   "language": "python",
   "name": "python3"
  },
  "language_info": {
   "codemirror_mode": {
    "name": "ipython",
    "version": 3
   },
   "file_extension": ".py",
   "mimetype": "text/x-python",
   "name": "python",
   "nbconvert_exporter": "python",
   "pygments_lexer": "ipython3",
   "version": "3.9.12"
  }
 },
 "nbformat": 4,
 "nbformat_minor": 5
}
