{
 "cells": [
  {
   "cell_type": "code",
   "execution_count": 1,
   "id": "d556c955",
   "metadata": {},
   "outputs": [],
   "source": [
    "from pylabrobot.liquid_handling import LiquidHandler\n",
    "from pylabrobot.liquid_handling.backends.simulation.simulator_backend import SimulatorBackend\n",
    "from pylabrobot.liquid_handling.backends import ChatterBoxBackend\n",
    "from pylabrobot.resources.hamilton import STARLetDeck\n",
    "from pylabrobot.resources.opentrons import OTDeck\n",
    "\n",
    "from pylabrobot.resources import (\n",
    "    TIP_CAR_480_A00,\n",
    "    PLT_CAR_L5AC_A00,\n",
    "    Cos_96_DW_1mL,\n",
    "    STF_L\n",
    ")\n",
    "\n",
    "sb = SimulatorBackend(open_browser=False)\n",
    "lh = LiquidHandler(backend=sb, deck=STARLetDeck())\n"
   ]
  },
  {
   "cell_type": "code",
   "execution_count": 2,
   "id": "218553a1",
   "metadata": {},
   "outputs": [],
   "source": [
    "import os\n",
    "os.chdir(os.path.expanduser(\"~\"))\n",
    "os.chdir(\"Pylabrobot_Notebooks\")"
   ]
  },
  {
   "cell_type": "code",
   "execution_count": 3,
   "id": "ad31fb31",
   "metadata": {},
   "outputs": [
    {
     "data": {
      "text/plain": [
       "['.ipynb_checkpoints',\n",
       " 'load_deck.ipynb',\n",
       " 'pylabrobot-20230617.log',\n",
       " 'pylabrobot-20230618.log',\n",
       " 'save_deck.ipynb',\n",
       " 'save_deck.json']"
      ]
     },
     "execution_count": 3,
     "metadata": {},
     "output_type": "execute_result"
    }
   ],
   "source": [
    "os.listdir()"
   ]
  },
  {
   "cell_type": "code",
   "execution_count": 4,
   "id": "6b7c2f18",
   "metadata": {},
   "outputs": [
    {
     "data": {
      "text/plain": [
       "'C:\\\\Users\\\\stefa\\\\Pylabrobot_Notebooks'"
      ]
     },
     "execution_count": 4,
     "metadata": {},
     "output_type": "execute_result"
    }
   ],
   "source": [
    "os.getcwd()"
   ]
  },
  {
   "cell_type": "code",
   "execution_count": 5,
   "id": "3b883cab",
   "metadata": {},
   "outputs": [
    {
     "data": {
      "text/plain": [
       "HamiltonDeck(name=deck, location=(000.000, 000.000, 000.000), size_x=1360, size_y=653.5, size_z=900, category=deck)"
      ]
     },
     "execution_count": 5,
     "metadata": {},
     "output_type": "execute_result"
    }
   ],
   "source": [
    "lh.deck = lh.deck.load_from_json_file('save_deck.json')"
   ]
  },
  {
   "cell_type": "code",
   "execution_count": 6,
   "id": "167d0eab",
   "metadata": {},
   "outputs": [
    {
     "data": {
      "text/plain": [
       "{'name': 'deck',\n",
       " 'type': 'HamiltonDeck',\n",
       " 'size_x': 1360,\n",
       " 'size_y': 653.5,\n",
       " 'size_z': 900,\n",
       " 'location': {'x': 0, 'y': 0, 'z': 0},\n",
       " 'category': 'deck',\n",
       " 'children': [{'name': 'trash',\n",
       "   'type': 'Trash',\n",
       "   'size_x': 0,\n",
       "   'size_y': 241.2,\n",
       "   'size_z': 0,\n",
       "   'location': {'x': 800, 'y': 190.6, 'z': 137.1},\n",
       "   'category': None,\n",
       "   'model': None,\n",
       "   'children': [],\n",
       "   'parent_name': 'deck'}],\n",
       " 'parent_name': None,\n",
       " 'num_rails': 30,\n",
       " 'no_trash': True}"
      ]
     },
     "execution_count": 6,
     "metadata": {},
     "output_type": "execute_result"
    }
   ],
   "source": [
    "lh.deck.serialize()"
   ]
  },
  {
   "cell_type": "code",
   "execution_count": 13,
   "id": "f4092e60",
   "metadata": {},
   "outputs": [
    {
     "name": "stdout",
     "output_type": "stream",
     "text": [
      "Websocket server started at http://127.0.0.1:2122\n",
      "C:\\Users\\stefa\\Pylabrobot_Notebooks\n",
      "File server started at http://127.0.0.1:1337 . Open this URL in your browser.\n"
     ]
    }
   ],
   "source": [
    "await lh.setup()\n"
   ]
  },
  {
   "cell_type": "code",
   "execution_count": 15,
   "id": "540ca4bb",
   "metadata": {},
   "outputs": [
    {
     "ename": "ValueError",
     "evalue": "Resource 'tips_01' not found",
     "output_type": "error",
     "traceback": [
      "\u001b[1;31m---------------------------------------------------------------------------\u001b[0m",
      "\u001b[1;31mValueError\u001b[0m                                Traceback (most recent call last)",
      "Input \u001b[1;32mIn [15]\u001b[0m, in \u001b[0;36m<cell line: 1>\u001b[1;34m()\u001b[0m\n\u001b[1;32m----> 1\u001b[0m tiprack \u001b[38;5;241m=\u001b[39m \u001b[43mlh\u001b[49m\u001b[38;5;241;43m.\u001b[39;49m\u001b[43mget_resource\u001b[49m\u001b[43m(\u001b[49m\u001b[38;5;124;43m\"\u001b[39;49m\u001b[38;5;124;43mtips_01\u001b[39;49m\u001b[38;5;124;43m\"\u001b[39;49m\u001b[43m)\u001b[49m\n",
      "File \u001b[1;32mc:\\users\\stefa\\pylabrobot\\pylabrobot\\liquid_handling\\liquid_handler.py:189\u001b[0m, in \u001b[0;36mLiquidHandler.get_resource\u001b[1;34m(self, name)\u001b[0m\n\u001b[0;32m    179\u001b[0m \u001b[38;5;28;01mdef\u001b[39;00m \u001b[38;5;21mget_resource\u001b[39m(\u001b[38;5;28mself\u001b[39m, name: \u001b[38;5;28mstr\u001b[39m) \u001b[38;5;241m-\u001b[39m\u001b[38;5;241m>\u001b[39m Resource:\n\u001b[0;32m    180\u001b[0m \u001b[38;5;250m  \u001b[39m\u001b[38;5;124;03m\"\"\" Find a resource on the deck of this liquid handler. Also see :meth:`~Deck.get_resource`.\u001b[39;00m\n\u001b[0;32m    181\u001b[0m \n\u001b[0;32m    182\u001b[0m \u001b[38;5;124;03m  Args:\u001b[39;00m\n\u001b[1;32m   (...)\u001b[0m\n\u001b[0;32m    186\u001b[0m \u001b[38;5;124;03m    The resource with the given name, or None if not found.\u001b[39;00m\n\u001b[0;32m    187\u001b[0m \u001b[38;5;124;03m  \"\"\"\u001b[39;00m\n\u001b[1;32m--> 189\u001b[0m   \u001b[38;5;28;01mreturn\u001b[39;00m \u001b[38;5;28;43mself\u001b[39;49m\u001b[38;5;241;43m.\u001b[39;49m\u001b[43mdeck\u001b[49m\u001b[38;5;241;43m.\u001b[39;49m\u001b[43mget_resource\u001b[49m\u001b[43m(\u001b[49m\u001b[43mname\u001b[49m\u001b[43m)\u001b[49m\n",
      "File \u001b[1;32mc:\\users\\stefa\\pylabrobot\\pylabrobot\\resources\\deck.py:106\u001b[0m, in \u001b[0;36mDeck.get_resource\u001b[1;34m(self, name)\u001b[0m\n\u001b[0;32m    100\u001b[0m \u001b[38;5;250m\u001b[39m\u001b[38;5;124;03m\"\"\" Returns the resource with the given name.\u001b[39;00m\n\u001b[0;32m    101\u001b[0m \n\u001b[0;32m    102\u001b[0m \u001b[38;5;124;03mRaises:\u001b[39;00m\n\u001b[0;32m    103\u001b[0m \u001b[38;5;124;03m  ValueError: If the resource is not found.\u001b[39;00m\n\u001b[0;32m    104\u001b[0m \u001b[38;5;124;03m\"\"\"\u001b[39;00m\n\u001b[0;32m    105\u001b[0m \u001b[38;5;28;01mif\u001b[39;00m \u001b[38;5;129;01mnot\u001b[39;00m \u001b[38;5;28mself\u001b[39m\u001b[38;5;241m.\u001b[39mhas_resource(name):\n\u001b[1;32m--> 106\u001b[0m   \u001b[38;5;28;01mraise\u001b[39;00m \u001b[38;5;167;01mValueError\u001b[39;00m(\u001b[38;5;124mf\u001b[39m\u001b[38;5;124m\"\u001b[39m\u001b[38;5;124mResource \u001b[39m\u001b[38;5;124m'\u001b[39m\u001b[38;5;132;01m{\u001b[39;00mname\u001b[38;5;132;01m}\u001b[39;00m\u001b[38;5;124m'\u001b[39m\u001b[38;5;124m not found\u001b[39m\u001b[38;5;124m\"\u001b[39m)\n\u001b[0;32m    107\u001b[0m \u001b[38;5;28;01mreturn\u001b[39;00m \u001b[38;5;28mself\u001b[39m\u001b[38;5;241m.\u001b[39mresources[name]\n",
      "\u001b[1;31mValueError\u001b[0m: Resource 'tips_01' not found"
     ]
    }
   ],
   "source": [
    "tiprack = lh.get_resource(\"tips_01\")\n"
   ]
  }
 ],
 "metadata": {
  "kernelspec": {
   "display_name": "Python 3 (ipykernel)",
   "language": "python",
   "name": "python3"
  },
  "language_info": {
   "codemirror_mode": {
    "name": "ipython",
    "version": 3
   },
   "file_extension": ".py",
   "mimetype": "text/x-python",
   "name": "python",
   "nbconvert_exporter": "python",
   "pygments_lexer": "ipython3",
   "version": "3.9.12"
  }
 },
 "nbformat": 4,
 "nbformat_minor": 5
}
