{
 "cells": [
  {
   "cell_type": "code",
   "execution_count": 1,
   "id": "d556c955",
   "metadata": {},
   "outputs": [],
   "source": [
    "from pylabrobot.liquid_handling import LiquidHandler\n",
    "from pylabrobot.liquid_handling.backends.simulation.simulator_backend import SimulatorBackend\n",
    "from pylabrobot.liquid_handling.backends import ChatterBoxBackend\n",
    "from pylabrobot.resources.hamilton import STARLetDeck\n",
    "from pylabrobot.resources.opentrons import OTDeck\n",
    "\n",
    "from pylabrobot.resources import (\n",
    "    TIP_CAR_480_A00,\n",
    "    PLT_CAR_L5AC_A00,\n",
    "    Cos_96_DW_1mL,\n",
    "    STF_L\n",
    ")\n",
    "\n",
    "sb = SimulatorBackend(open_browser=False)\n",
    "lh = LiquidHandler(backend=sb, deck=STARLetDeck())\n"
   ]
  },
  {
   "cell_type": "code",
   "execution_count": 2,
   "id": "ad31fb31",
   "metadata": {},
   "outputs": [
    {
     "data": {
      "text/plain": [
       "'C:\\\\Users\\\\stefa\\\\PyLabRobot_Notebooks'"
      ]
     },
     "execution_count": 2,
     "metadata": {},
     "output_type": "execute_result"
    }
   ],
   "source": [
    "import os\n",
    "os.listdir()\n",
    "os.getcwd()"
   ]
  },
  {
   "cell_type": "code",
   "execution_count": 3,
   "id": "3b883cab",
   "metadata": {},
   "outputs": [],
   "source": [
    "lh.deck = lh.deck.load_from_json_file('save_deck.json')"
   ]
  },
  {
   "cell_type": "code",
   "execution_count": 4,
   "id": "f4092e60",
   "metadata": {},
   "outputs": [
    {
     "name": "stdout",
     "output_type": "stream",
     "text": [
      "Websocket server started at http://127.0.0.1:2121\n",
      "C:\\Users\\stefa\\PyLabRobot_Notebooks\n",
      "Setup complete\n",
      "C:\\Users\\stefa\\PyLabRobot_Notebooks\n",
      "File server started at http://127.0.0.1:1337 . Open this URL in your browser.\n"
     ]
    }
   ],
   "source": [
    "await lh.setup()\n"
   ]
  },
  {
   "cell_type": "code",
   "execution_count": 6,
   "id": "4eb9659d",
   "metadata": {},
   "outputs": [],
   "source": [
    "tips = lh.get_resource(\"tips_01\")\n",
    "await sb.fill_tip_rack(tips)\n",
    "\n",
    "\n",
    "await lh.pick_up_tips(tips[\"A1\", \"B2\", \"C3\", \"D4\"])\n",
    "await lh.drop_tips(tips[\"A1\", \"B2\", \"C3\", \"D4\"])\n"
   ]
  }
 ],
 "metadata": {
  "kernelspec": {
   "display_name": "Python 3 (ipykernel)",
   "language": "python",
   "name": "python3"
  },
  "language_info": {
   "codemirror_mode": {
    "name": "ipython",
    "version": 3
   },
   "file_extension": ".py",
   "mimetype": "text/x-python",
   "name": "python",
   "nbconvert_exporter": "python",
   "pygments_lexer": "ipython3",
   "version": "3.9.12"
  }
 },
 "nbformat": 4,
 "nbformat_minor": 5
}
