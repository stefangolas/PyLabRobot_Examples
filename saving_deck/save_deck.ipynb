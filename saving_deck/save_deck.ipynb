{
 "cells": [
  {
   "cell_type": "code",
   "execution_count": null,
   "id": "709249a5",
   "metadata": {},
   "outputs": [],
   "source": [
    "from pylabrobot.liquid_handling import LiquidHandler\n",
    "from pylabrobot.liquid_handling.backends.simulation.simulator_backend import SimulatorBackend\n",
    "from pylabrobot.liquid_handling.backends import ChatterBoxBackend\n",
    "from pylabrobot.resources.hamilton import STARLetDeck\n",
    "from pylabrobot.resources.opentrons import OTDeck\n",
    "\n",
    "from pylabrobot.resources import (\n",
    "    TIP_CAR_480_A00,\n",
    "    PLT_CAR_L5AC_A00,\n",
    "    Cos_96_DW_1mL,\n",
    "    STF_L\n",
    ")\n",
    "\n",
    "sb = SimulatorBackend(open_browser=False)\n",
    "lh = LiquidHandler(backend=sb, deck=STARLetDeck())\n",
    "\n"
   ]
  },
  {
   "cell_type": "code",
   "execution_count": null,
   "id": "931853ee",
   "metadata": {},
   "outputs": [],
   "source": [
    "await lh.setup()\n"
   ]
  },
  {
   "cell_type": "code",
   "execution_count": null,
   "id": "608f39ea",
   "metadata": {},
   "outputs": [],
   "source": [
    "sb.wait_for_connection()\n"
   ]
  },
  {
   "cell_type": "code",
   "execution_count": null,
   "id": "20c3f7e9",
   "metadata": {},
   "outputs": [],
   "source": [
    "from pylabrobot.resources import (\n",
    "    TIP_CAR_480_A00,\n",
    "    PLT_CAR_L5AC_A00,\n",
    "    Cos_96_DW_1mL,\n",
    "    HTF_L\n",
    ")\n",
    "tip_car = TIP_CAR_480_A00(name='tip carrier')\n",
    "tip_car[0] = tips = HTF_L(name='tips_01')\n",
    "tip_car[1] = HTF_L(name='tips_02')\n",
    "tip_car[2] = HTF_L(name='tips_03')\n",
    "tip_car[3] = HTF_L(name='tips_04')\n",
    "tip_car[4] = HTF_L(name='tips_05')\n",
    "lh.deck.assign_child_resource(tip_car, rails=15)\n",
    "plt_car = PLT_CAR_L5AC_A00(name='plate carrier')\n",
    "plt_car[0] = plate = Cos_96_DW_1mL(name='plate_01')\n",
    "plt_car[1] = Cos_96_DW_1mL(name='plate_02')\n",
    "plt_car[2] = Cos_96_DW_1mL(name='plate_03')\n",
    "lh.deck.assign_child_resource(plt_car, rails=8)\n"
   ]
  },
  {
   "cell_type": "code",
   "execution_count": null,
   "id": "8629d48f",
   "metadata": {},
   "outputs": [],
   "source": [
    "tiprack = lh.get_resource(\"tips_01\")\n",
    "await sb.fill_tip_rack(tiprack)\n",
    "\n",
    "plate_1 = lh.get_resource(\"plate_01\")\n",
    "plate_2 = lh.get_resource(\"plate_02\")\n",
    "\n",
    "# These should both be handled simultaneously by lh\n",
    "await sb.adjust_well_volume(plate_1, pattern=[[500]*12]*8)\n",
    "plate_1.set_well_volumes([[500]*12]*8)\n",
    "\n"
   ]
  },
  {
   "cell_type": "code",
   "execution_count": null,
   "id": "5a55ee27",
   "metadata": {},
   "outputs": [],
   "source": [
    "lh.deck.save('save_deck.json')"
   ]
  },
  {
   "cell_type": "code",
   "execution_count": null,
   "id": "21430ab0",
   "metadata": {},
   "outputs": [],
   "source": []
  },
  {
   "cell_type": "code",
   "execution_count": null,
   "id": "e222a2f9",
   "metadata": {},
   "outputs": [],
   "source": [
    "await lh.pick_up_tips(tip_0[\"A1\"])\n",
    "await lh.aspirate(plate[\"A2\"], vols=[300])\n",
    "await lh.dispense(plate_2[\"A1\"], vols=[300])\n",
    "await lh.drop_tips(tip_0[\"A1\"])"
   ]
  },
  {
   "cell_type": "code",
   "execution_count": null,
   "id": "85f09c9f",
   "metadata": {},
   "outputs": [],
   "source": [
    "lh.deck.__dict__"
   ]
  },
  {
   "cell_type": "code",
   "execution_count": null,
   "id": "6e73d64f",
   "metadata": {},
   "outputs": [],
   "source": [
    "sb = SimulatorBackend(open_browser=False)\n",
    "lh = LiquidHandler(backend=sb, deck=OTDeck())\n",
    "await lh.setup()\n",
    "sb.wait_for_connection()\n"
   ]
  },
  {
   "cell_type": "code",
   "execution_count": null,
   "id": "5327f428",
   "metadata": {},
   "outputs": [],
   "source": [
    "from pylabrobot.resources import Cos_96_DW_1mL\n",
    "plate_1 = Cos_96_DW_1mL(name='plate_1')\n",
    "plate_2 = Cos_96_DW_1mL(name='plate_2')\n",
    "\n",
    "lh.deck.assign_child_at_slot(plate_1, slot = 2)\n",
    "lh.deck.assign_child_at_slot(plate_2, slot = 3)\n"
   ]
  },
  {
   "cell_type": "code",
   "execution_count": null,
   "id": "af82fee6",
   "metadata": {},
   "outputs": [],
   "source": [
    "from pylabrobot.resources.opentrons import opentrons_96_tiprack_300ul\n",
    "tips = opentrons_96_tiprack_300ul(name = 'tips')"
   ]
  },
  {
   "cell_type": "code",
   "execution_count": null,
   "id": "1763f224",
   "metadata": {},
   "outputs": [],
   "source": [
    "lh.deck.assign_child_at_slot(tips, slot = 4)\n"
   ]
  },
  {
   "cell_type": "code",
   "execution_count": null,
   "id": "6e420e18",
   "metadata": {},
   "outputs": [],
   "source": [
    "await sb.fill_tip_rack(tips)"
   ]
  },
  {
   "cell_type": "code",
   "execution_count": null,
   "id": "0b489eef",
   "metadata": {},
   "outputs": [],
   "source": [
    "await sb.adjust_well_volume(plate_1, pattern=[[500]*12]*8)"
   ]
  },
  {
   "cell_type": "code",
   "execution_count": null,
   "id": "cc2b613e",
   "metadata": {},
   "outputs": [],
   "source": [
    "await lh.pick_up_tips(tips[\"A1\"])\n",
    "await lh.aspirate(plate_1[\"A2\"], vols=[300])\n",
    "await lh.dispense(plate_2[\"A1\"], vols=[300])\n",
    "await lh.drop_tips(tips[\"A1\"])\n"
   ]
  }
 ],
 "metadata": {
  "kernelspec": {
   "display_name": "Python 3 (ipykernel)",
   "language": "python",
   "name": "python3"
  },
  "language_info": {
   "codemirror_mode": {
    "name": "ipython",
    "version": 3
   },
   "file_extension": ".py",
   "mimetype": "text/x-python",
   "name": "python",
   "nbconvert_exporter": "python",
   "pygments_lexer": "ipython3",
   "version": "3.9.12"
  }
 },
 "nbformat": 4,
 "nbformat_minor": 5
}
